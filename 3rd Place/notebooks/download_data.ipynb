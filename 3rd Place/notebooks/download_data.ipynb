{
 "cells": [
  {
   "cell_type": "code",
   "execution_count": null,
   "metadata": {},
   "outputs": [],
   "source": [
    "import os\n",
    "import numpy as np\n",
    "import pandas as pd\n",
    "\n",
    "import boto3\n",
    "import botocore\n",
    "from botocore.handlers import disable_signing\n",
    "s3 = boto3.resource('s3')\n",
    "s3.meta.client.meta.events.register(\"choose-signer.s3.*\", disable_signing)"
   ]
  },
  {
   "cell_type": "code",
   "execution_count": null,
   "metadata": {},
   "outputs": [],
   "source": [
    "data = \"../data/\"\n",
    "train_df = pd.read_csv(data + \"train_data.csv\")\n",
    "test_df = pd.read_csv(data + \"test_data.csv\")"
   ]
  },
  {
   "cell_type": "code",
   "execution_count": null,
   "metadata": {},
   "outputs": [],
   "source": [
    "train_df"
   ]
  },
  {
   "cell_type": "code",
   "execution_count": null,
   "metadata": {},
   "outputs": [],
   "source": [
    "test_df"
   ]
  },
  {
   "cell_type": "code",
   "execution_count": null,
   "metadata": {},
   "outputs": [],
   "source": [
    "train_data = data + \"train_data/\"\n",
    "os.makedirs(train_data)\n",
    "\n",
    "BUCKET_NAME = \"drivendata-competition-clog-loss\"\n",
    "\n",
    "for i, image_name in enumerate(train_df[\"filename\"].values):\n",
    "    if i % 200 == 0:\n",
    "        print(i)\n",
    "        \n",
    "    from_image = \"train/\" + image_name\n",
    "    to_image = train_data + image_name\n",
    "    try:\n",
    "        s3.Bucket(BUCKET_NAME).download_file(from_image, to_image)\n",
    "    except botocore.exceptions.ClientError as e:\n",
    "        if e.response[\"Error\"][\"Code\"] == \"404\":\n",
    "            print(\"The object does not exist.\")\n",
    "        else:\n",
    "            raise"
   ]
  },
  {
   "cell_type": "code",
   "execution_count": null,
   "metadata": {},
   "outputs": [],
   "source": [
    "test_data = data + \"test_data/\"\n",
    "os.makedirs(test_data)\n",
    "\n",
    "BUCKET_NAME = \"drivendata-competition-clog-loss\"\n",
    "\n",
    "for i, image_name in enumerate(test_df[\"filename\"].values):\n",
    "    if i % 200 == 0:\n",
    "        print(i)\n",
    "        \n",
    "    from_image = \"test/\" + image_name\n",
    "    to_image = test_data + image_name\n",
    "    try:\n",
    "        s3.Bucket(BUCKET_NAME).download_file(from_image, to_image)\n",
    "    except botocore.exceptions.ClientError as e:\n",
    "        if e.response[\"Error\"][\"Code\"] == \"404\":\n",
    "            print(\"The object does not exist.\")\n",
    "        else:\n",
    "            raise"
   ]
  }
 ],
 "metadata": {
  "kernelspec": {
   "display_name": "Python 3",
   "language": "python",
   "name": "python3"
  },
  "language_info": {
   "codemirror_mode": {
    "name": "ipython",
    "version": 3
   },
   "file_extension": ".py",
   "mimetype": "text/x-python",
   "name": "python",
   "nbconvert_exporter": "python",
   "pygments_lexer": "ipython3",
   "version": "3.6.10"
  }
 },
 "nbformat": 4,
 "nbformat_minor": 2
}
