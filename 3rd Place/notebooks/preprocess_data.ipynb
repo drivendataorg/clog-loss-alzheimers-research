{
 "cells": [
  {
   "cell_type": "code",
   "execution_count": null,
   "metadata": {},
   "outputs": [],
   "source": [
    "import os\n",
    "import cv2\n",
    "import glob\n",
    "import numpy as np\n",
    "import pandas as pd\n",
    "import matplotlib.pyplot as plt"
   ]
  },
  {
   "cell_type": "code",
   "execution_count": null,
   "metadata": {},
   "outputs": [],
   "source": [
    "data_folder = \"../data/\"\n",
    "train_folder = data_folder + \"train_data/\"\n",
    "train_roi_folder = data_folder + \"train_data_roi/\"\n",
    "test_folder = data_folder + \"test_data/\"\n",
    "test_roi_folder = data_folder + \"test_data_roi/\""
   ]
  },
  {
   "cell_type": "code",
   "execution_count": null,
   "metadata": {},
   "outputs": [],
   "source": [
    "os.makedirs(train_roi_folder)\n",
    "os.makedirs(test_roi_folder)"
   ]
  },
  {
   "cell_type": "code",
   "execution_count": null,
   "metadata": {},
   "outputs": [],
   "source": [
    "train_videos = glob.glob(train_folder + \"*.mp4\")\n",
    "test_videos = glob.glob(test_folder + \"*.mp4\")"
   ]
  },
  {
   "cell_type": "code",
   "execution_count": null,
   "metadata": {},
   "outputs": [],
   "source": [
    "len(train_videos)"
   ]
  },
  {
   "cell_type": "code",
   "execution_count": null,
   "metadata": {},
   "outputs": [],
   "source": [
    "len(test_videos)"
   ]
  },
  {
   "cell_type": "code",
   "execution_count": null,
   "metadata": {},
   "outputs": [],
   "source": [
    "C = 5\n",
    "\n",
    "def get_coords(frame):\n",
    "    cframe = frame.copy()\n",
    "    \n",
    "    cframe[cframe[:,:,2] < 200] = 0\n",
    "    cframe[cframe[:,:,0] > 150] = 0\n",
    "    cframe[cframe[:,:,1] > 150] = 0\n",
    "    pos = np.where(cframe != 0)\n",
    "    \n",
    "    x_min = max(0, min(pos[0]) - C)\n",
    "    x_max = min(cframe.shape[0], max(pos[0]) + C)\n",
    "    y_min = max(0, min(pos[1]) - C)\n",
    "    y_max = min(cframe.shape[1], max(pos[1]) + C)\n",
    "    \n",
    "    return x_min, x_max, y_min, y_max"
   ]
  },
  {
   "cell_type": "code",
   "execution_count": null,
   "metadata": {},
   "outputs": [],
   "source": [
    "def get_mask(crop):\n",
    "    cframe = crop.copy()\n",
    "    cframe[cframe[:,:,2] < 200] = 0\n",
    "    cframe[cframe[:,:,0] > 150] = 0\n",
    "    cframe[cframe[:,:,1] > 150] = 0\n",
    "    \n",
    "    pos = np.where(cframe != 0)\n",
    "    pts = []\n",
    "    for i in range(len(pos[0])):\n",
    "        pt = [pos[1][i], pos[0][i]]\n",
    "        if pt not in pts:\n",
    "            pts.append(pt)\n",
    "    pts = np.array(pts)\n",
    "    \n",
    "    mask = np.zeros(crop.shape[:2], np.uint8)\n",
    "    cv2.drawContours(mask, [pts], -1, (255, 255, 255), -1, cv2.LINE_AA)\n",
    "    \n",
    "    return mask"
   ]
  },
  {
   "cell_type": "code",
   "execution_count": null,
   "metadata": {
    "scrolled": true
   },
   "outputs": [],
   "source": [
    "dim = (112, 112)\n",
    "\n",
    "def make_roi(videos, destination_folder):\n",
    "    for i, video in enumerate(videos):\n",
    "\n",
    "        if i % 200 == 0:\n",
    "            print(i)\n",
    "\n",
    "        cap = cv2.VideoCapture(video)\n",
    "        fourcc = cv2.VideoWriter_fourcc(*'mp4v')\n",
    "        out = cv2.VideoWriter(destination_folder + video.split(\"\\\\\")[-1], fourcc, 20, dim)\n",
    "\n",
    "        if (cap.isOpened()== False): \n",
    "            print(\"Error opening video stream or file\")\n",
    "\n",
    "        first = True\n",
    "        while(cap.isOpened()):\n",
    "            ret, frame = cap.read()\n",
    "            if ret == True:\n",
    "                if first:\n",
    "                    x_min, x_max, y_min, y_max = get_coords(frame)\n",
    "                    first = False\n",
    "                crop = frame[x_min:x_max, y_min:y_max, :]\n",
    "                resized = cv2.resize(crop, dim, interpolation=cv2.INTER_AREA)\n",
    "                out.write(resized)\n",
    "            else: \n",
    "                break\n",
    "\n",
    "        cap.release()\n",
    "        out.release()"
   ]
  },
  {
   "cell_type": "code",
   "execution_count": null,
   "metadata": {},
   "outputs": [],
   "source": [
    "make_roi(train_videos, train_roi_folder)"
   ]
  },
  {
   "cell_type": "code",
   "execution_count": null,
   "metadata": {},
   "outputs": [],
   "source": [
    "make_roi(test_videos, test_roi_folder)"
   ]
  }
 ],
 "metadata": {
  "kernelspec": {
   "display_name": "Python 3",
   "language": "python",
   "name": "python3"
  },
  "language_info": {
   "codemirror_mode": {
    "name": "ipython",
    "version": 3
   },
   "file_extension": ".py",
   "mimetype": "text/x-python",
   "name": "python",
   "nbconvert_exporter": "python",
   "pygments_lexer": "ipython3",
   "version": "3.6.10"
  }
 },
 "nbformat": 4,
 "nbformat_minor": 2
}
